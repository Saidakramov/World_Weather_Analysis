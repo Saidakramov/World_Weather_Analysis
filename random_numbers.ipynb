{
 "cells": [
  {
   "cell_type": "code",
   "execution_count": 1,
   "id": "e368fa02",
   "metadata": {},
   "outputs": [],
   "source": [
    "import random"
   ]
  },
  {
   "cell_type": "code",
   "execution_count": 2,
   "id": "9feaba9d",
   "metadata": {},
   "outputs": [
    {
     "data": {
      "text/plain": [
       "82"
      ]
     },
     "execution_count": 2,
     "metadata": {},
     "output_type": "execute_result"
    }
   ],
   "source": [
    "random.randint(-90,90)"
   ]
  },
  {
   "cell_type": "code",
   "execution_count": 3,
   "id": "c84cafcb",
   "metadata": {},
   "outputs": [
    {
     "data": {
      "text/plain": [
       "0.18454884380150693"
      ]
     },
     "execution_count": 3,
     "metadata": {},
     "output_type": "execute_result"
    }
   ],
   "source": [
    "random.random()"
   ]
  },
  {
   "cell_type": "code",
   "execution_count": 7,
   "id": "b3017f7c",
   "metadata": {},
   "outputs": [
    {
     "data": {
      "text/plain": [
       "-44.49198183932415"
      ]
     },
     "execution_count": 7,
     "metadata": {},
     "output_type": "execute_result"
    }
   ],
   "source": [
    "random_number = random.randint(-90, 89) + random.random()\n",
    "random_number"
   ]
  },
  {
   "cell_type": "code",
   "execution_count": 11,
   "id": "01ce3bfe",
   "metadata": {},
   "outputs": [
    {
     "data": {
      "text/plain": [
       "[75.96160831251223,\n",
       " -70.14026418119946,\n",
       " 86.29931025621693,\n",
       " -54.35938325656779,\n",
       " 15.541565918247418,\n",
       " -14.114990812932842,\n",
       " -40.9833908258761,\n",
       " 38.78720683268227,\n",
       " 18.495997851114158,\n",
       " 0.0750830668330299]"
      ]
     },
     "execution_count": 11,
     "metadata": {},
     "output_type": "execute_result"
    }
   ],
   "source": [
    "x = 1 \n",
    "latitudes =[]\n",
    "while x < 11:\n",
    "    random_lat = random.randint(-90, 89) + random.random()\n",
    "    latitudes.append(random_lat)\n",
    "    x += 1\n",
    "latitudes"
   ]
  },
  {
   "cell_type": "code",
   "execution_count": 12,
   "id": "426d367b",
   "metadata": {},
   "outputs": [
    {
     "data": {
      "text/plain": [
       "-85"
      ]
     },
     "execution_count": 12,
     "metadata": {},
     "output_type": "execute_result"
    }
   ],
   "source": [
    "random.randrange(-90, 90, step =1)"
   ]
  },
  {
   "cell_type": "code",
   "execution_count": 13,
   "id": "cf12b575",
   "metadata": {},
   "outputs": [
    {
     "data": {
      "text/plain": [
       "-36"
      ]
     },
     "execution_count": 13,
     "metadata": {},
     "output_type": "execute_result"
    }
   ],
   "source": [
    "random.randrange(-90, 90, step =3)"
   ]
  },
  {
   "cell_type": "code",
   "execution_count": 14,
   "id": "1b5e8a07",
   "metadata": {},
   "outputs": [
    {
     "data": {
      "text/plain": [
       "-35.81781474752918"
      ]
     },
     "execution_count": 14,
     "metadata": {},
     "output_type": "execute_result"
    }
   ],
   "source": [
    "random.uniform(-90, 90)"
   ]
  },
  {
   "cell_type": "code",
   "execution_count": 15,
   "id": "804ae58d",
   "metadata": {},
   "outputs": [],
   "source": [
    "import numpy as np"
   ]
  },
  {
   "cell_type": "code",
   "execution_count": 16,
   "id": "4168dde3",
   "metadata": {},
   "outputs": [
    {
     "data": {
      "text/plain": [
       "16.525321182501955"
      ]
     },
     "execution_count": 16,
     "metadata": {},
     "output_type": "execute_result"
    }
   ],
   "source": [
    "np.random.uniform(-90.000, 90.000)"
   ]
  },
  {
   "cell_type": "code",
   "execution_count": 17,
   "id": "77347ee3",
   "metadata": {},
   "outputs": [
    {
     "data": {
      "text/plain": [
       "array([ 76.85671614, -44.1733258 ,  58.51725282, -32.2286083 ,\n",
       "       -22.17172516,   5.65580898,  66.33122885,  39.91699059,\n",
       "       -43.89783741, -12.36427951, -74.26607343,  -8.58314053,\n",
       "       -62.63515451, -44.40150265, -11.51205432, -80.4323724 ,\n",
       "        88.64333064,  84.3012696 ,  70.16654905, -45.65367916,\n",
       "        45.29362384,  -5.18748361, -87.30499123,  23.29952692,\n",
       "       -59.71035132, -44.45418878,   0.113078  , -34.02709074,\n",
       "        -2.60713901,  -4.36142895,  46.34284717,  63.04457847,\n",
       "       -30.8856291 , -86.08134859,  30.77175918, -71.83774329,\n",
       "       -25.08075153, -22.78977674, -73.52448572,  59.54218265,\n",
       "       -45.67806961, -85.25608391,  67.56364768, -67.2740586 ,\n",
       "       -47.21094821,  -8.94694885,  78.23280998,  27.65873483,\n",
       "         7.46437339,   1.19509546])"
      ]
     },
     "execution_count": 17,
     "metadata": {},
     "output_type": "execute_result"
    }
   ],
   "source": [
    "np.random.uniform(-90.000, 90.000, size=50)"
   ]
  },
  {
   "cell_type": "code",
   "execution_count": 18,
   "id": "7e96af4a",
   "metadata": {},
   "outputs": [],
   "source": [
    "# Import timeit.\n",
    "import timeit"
   ]
  },
  {
   "cell_type": "code",
   "execution_count": 19,
   "id": "337b7af9",
   "metadata": {},
   "outputs": [
    {
     "name": "stdout",
     "output_type": "stream",
     "text": [
      "12.6 µs ± 42 ns per loop (mean ± std. dev. of 7 runs, 100000 loops each)\n"
     ]
    }
   ],
   "source": [
    "%timeit np.random.uniform(-90.000, 90.000, size=1500)"
   ]
  },
  {
   "cell_type": "code",
   "execution_count": 20,
   "id": "82441e48",
   "metadata": {},
   "outputs": [
    {
     "name": "stdout",
     "output_type": "stream",
     "text": [
      "1.04 ms ± 5.5 µs per loop (mean ± std. dev. of 7 runs, 1000 loops each)\n"
     ]
    }
   ],
   "source": [
    "def latitudes(size):\n",
    "    latitudes = []\n",
    "    x = 0\n",
    "    while x < (size):\n",
    "        random_lat = random.randint(-90, 90) + random.random()\n",
    "        latitudes.append(random_lat)\n",
    "        x += 1\n",
    "    return latitudes\n",
    "# Call the function with 1500.\n",
    "%timeit latitudes(1500)"
   ]
  },
  {
   "cell_type": "code",
   "execution_count": null,
   "id": "9ef91f96",
   "metadata": {},
   "outputs": [],
   "source": []
  }
 ],
 "metadata": {
  "kernelspec": {
   "display_name": "PythonData",
   "language": "python",
   "name": "pythondata"
  },
  "language_info": {
   "codemirror_mode": {
    "name": "ipython",
    "version": 3
   },
   "file_extension": ".py",
   "mimetype": "text/x-python",
   "name": "python",
   "nbconvert_exporter": "python",
   "pygments_lexer": "ipython3",
   "version": "3.8.8"
  }
 },
 "nbformat": 4,
 "nbformat_minor": 5
}
